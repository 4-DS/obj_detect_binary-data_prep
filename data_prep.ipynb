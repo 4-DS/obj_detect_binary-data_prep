{
 "cells": [
  {
   "cell_type": "code",
   "execution_count": null,
   "id": "99a281c4-d0fd-40c4-9849-91d0f1669678",
   "metadata": {
    "tags": []
   },
   "outputs": [],
   "source": [
    "%load_ext autoreload\n",
    "%autoreload 2"
   ]
  },
  {
   "cell_type": "code",
   "execution_count": null,
   "id": "2bebf8f4-cdbe-4ace-9fa5-e0300e2a1fc5",
   "metadata": {
    "tags": [
     "parameters"
    ]
   },
   "outputs": [],
   "source": [
    "#2. specify parameters\n",
    "pipeline_params={\n",
    "}\n",
    "step_params={\n",
    "}\n",
    "substep_params={\n",
    "    \"FILTER_EMPTY_GT\"    : False,\n",
    "    \"MIN_OBJECT_SIZE\"    : 5\n",
    "}"
   ]
  },
  {
   "cell_type": "code",
   "execution_count": null,
   "id": "f6426737-251e-46c2-9fc4-66efd6389921",
   "metadata": {
    "tags": []
   },
   "outputs": [],
   "source": [
    "#3 define substep interface\n",
    "from sinara.substep import NotebookSubstep, default_param_values, ENV_NAME, PIPELINE_NAME, ZONE_NAME, STEP_NAME, RUN_ID, ENTITY_NAME, ENTITY_PATH, SUBSTEP_NAME\n",
    "\n",
    "substep = NotebookSubstep(pipeline_params, step_params, substep_params, **default_param_values(\"params/step_params.json\"))\n",
    "\n",
    "substep.interface(\n",
    "    inputs =\n",
    "    [\n",
    "        {STEP_NAME: \"data_load\", ENTITY_NAME: \"images\"},\n",
    "        {STEP_NAME: \"data_load\", ENTITY_NAME: \"annotations\"}\n",
    "    ],\n",
    "    tmp_outputs =\n",
    "    [   \n",
    "        { ENTITY_NAME: \"load_images\"},    \n",
    "        { ENTITY_NAME: \"images\"},\n",
    "        { ENTITY_NAME: \"annotations\"},\n",
    "        { ENTITY_NAME: \"train_data\"},\n",
    "        { ENTITY_NAME: \"eval_data\"},\n",
    "        { ENTITY_NAME: \"test_data\"},\n",
    "        { ENTITY_NAME: \"train_eval_config\"},\n",
    "        { ENTITY_NAME: \"test_config\"}\n",
    "    ],\n",
    "    outputs = \n",
    "    [\n",
    "        { ENTITY_NAME: \"train_data\"},\n",
    "        { ENTITY_NAME: \"eval_data\"},\n",
    "        { ENTITY_NAME: \"test_data\"},\n",
    "        { ENTITY_NAME: \"train_eval_config\"},\n",
    "        { ENTITY_NAME: \"test_config\"}\n",
    "    ]\n",
    "    \n",
    ")\n",
    "\n",
    "substep.print_interface_info()\n",
    "\n",
    "substep.exit_in_visualize_mode()"
   ]
  },
  {
   "cell_type": "markdown",
   "id": "11553604-3196-48ca-86d5-6681c3458b17",
   "metadata": {},
   "source": [
    "![interface data_prep](./imgs/data_prep_inteface.drawio.png)"
   ]
  },
  {
   "cell_type": "code",
   "execution_count": null,
   "id": "baf93cf0-74d8-4a49-87cf-a6d6656cb870",
   "metadata": {
    "tags": []
   },
   "outputs": [],
   "source": [
    "#4 substep.interface to variables\n",
    "inputs = substep.inputs(step_name = \"data_load\")\n",
    "outputs = substep.outputs()\n",
    "tmp_outputs = substep.tmp_outputs()"
   ]
  },
  {
   "cell_type": "code",
   "execution_count": null,
   "id": "cd76aa12-771f-4a41-a999-599396e10cc6",
   "metadata": {
    "tags": []
   },
   "outputs": [],
   "source": [
    "#5 run spark\n",
    "from sinara.spark import SinaraSpark\n",
    "\n",
    "spark = SinaraSpark.run_session(0)\n",
    "SinaraSpark.ui_url()"
   ]
  },
  {
   "cell_type": "markdown",
   "id": "59a28711-f22f-40c9-b0fc-02187c04b559",
   "metadata": {
    "tags": []
   },
   "source": [
    "### Loading dataset and annotation files (from the previous component data_load)"
   ]
  },
  {
   "cell_type": "code",
   "execution_count": null,
   "id": "16757091-17a6-4ba3-b922-d0a5528ae21f",
   "metadata": {
    "tags": []
   },
   "outputs": [],
   "source": [
    "import os.path as osp\n",
    "import os\n",
    "from sinara.store import SinaraStore\n",
    "from pathlib import Path\n",
    "\n",
    "# copy data (parquets) from previos step to tmp_outputs\n",
    "SinaraStore.copy_store_files_to_tmp(store_dir=inputs.images, tmp_dir=tmp_outputs.images)\n",
    "SinaraStore.copy_store_files_to_tmp(store_dir=inputs.annotations, tmp_dir=tmp_outputs.annotations)"
   ]
  },
  {
   "cell_type": "markdown",
   "id": "e410afdd-832b-4510-a803-af73af089c2f",
   "metadata": {},
   "source": [
    "#### Unpack parquet from tmp_outputs.load_images to files in tmp_outputs.images"
   ]
  },
  {
   "cell_type": "code",
   "execution_count": null,
   "id": "152b3068-5f7b-41a5-8b8f-8e9b455b4c8a",
   "metadata": {},
   "outputs": [],
   "source": [
    "# # TODO Delete after update sinara\n",
    "\n",
    "# from functools import partial\n",
    "\n",
    "# ### Save dataset from parquet to files\n",
    "# def save_file(row, tmp_dir): \n",
    "#     total_img_path = osp.join(tmp_dir, row.file_names)\n",
    "#     os.makedirs(osp.dirname(total_img_path), exist_ok=True)\n",
    "#     with open(total_img_path, 'wb') as f_id:\n",
    "#         f_id.write(row.files_binary)"
   ]
  },
  {
   "cell_type": "code",
   "execution_count": null,
   "id": "a624ea53-db3e-4471-be5c-b77181103ee2",
   "metadata": {
    "tags": []
   },
   "outputs": [],
   "source": [
    "# # TODO Delete after update sinara\n",
    "# %%time\n",
    "\n",
    "# # LOAD Images\n",
    "\n",
    "# print(f\"spark read start\")\n",
    "# df_spark = spark.read.parquet(tmp_outputs.load_images)\n",
    "# df_spark.foreach(partial(save_file, tmp_dir=tmp_outputs.images))"
   ]
  },
  {
   "cell_type": "markdown",
   "id": "791d4c1a-bbf2-4abb-adc4-a14d66f0fef5",
   "metadata": {},
   "source": [
    "### Processing annotations"
   ]
  },
  {
   "cell_type": "markdown",
   "id": "0237b0fb-1bb0-48f8-9390-9e77304c7ec6",
   "metadata": {},
   "source": [
    "Checking annotations for empty objects, selecting object categories"
   ]
  },
  {
   "cell_type": "code",
   "execution_count": null,
   "id": "43e75e71-5c24-49e9-90f0-7caaddbd44c1",
   "metadata": {
    "tags": []
   },
   "outputs": [],
   "source": [
    "from utils.coco import join_coco_files, load as load_coco\n",
    "from utils.coco import preview_coco_file\n",
    "from utils.coco import show_item\n",
    "from utils.coco import get_dataset\n",
    "from sklearn.model_selection import train_test_split\n",
    "from tqdm import tqdm\n",
    "import numpy as np\n",
    "import os.path as osp\n",
    "import os"
   ]
  },
  {
   "cell_type": "code",
   "execution_count": null,
   "id": "5736422e-b310-42db-befa-de8275a39607",
   "metadata": {
    "tags": []
   },
   "outputs": [],
   "source": [
    "# Load annotation from json\n",
    "# If using the full coco_dataset then use the full annotation file instances_train2017.json\n",
    "coco_annotation = load_coco(osp.join(tmp_outputs.annotations, \"instances_val2017.json\"))"
   ]
  },
  {
   "cell_type": "code",
   "execution_count": null,
   "id": "840196fe-efcd-4d07-b51e-0b365b2e9b66",
   "metadata": {
    "tags": []
   },
   "outputs": [],
   "source": [
    "# Selection of object types for subsequent neural network training\n",
    "select_object_names = [\"person\", \"bicycle\", \"car\", \"motorcycle\", \"bus\", \"truck\"]\n",
    "CLASSES = select_object_names\n",
    "select_categories= [cat_info.copy() for cat_info in coco_annotation[\"categories\"] if cat_info[\"name\"] in select_object_names]\n",
    "for new_id, cat_info in enumerate(select_categories, 1):\n",
    "    cat_info[\"old_id\"] = cat_info[\"id\"]\n",
    "    cat_info[\"id\"] = new_id \n",
    "select_categories"
   ]
  },
  {
   "cell_type": "code",
   "execution_count": null,
   "id": "e0cee660-e295-4d6c-8881-fbb4c9088db5",
   "metadata": {
    "tags": []
   },
   "outputs": [],
   "source": [
    "# Select annotation object by select_categories\n",
    "reid_categories_ids = {cat_info[\"old_id\"]: cat_info[\"id\"] for cat_info in select_categories} # reidentification categories\n",
    "\n",
    "new_coco_annotations = []\n",
    "for annot in coco_annotation[\"annotations\"]:\n",
    "    new_annot = annot.copy()\n",
    "    category_id = new_annot[\"category_id\"]\n",
    "    if category_id in reid_categories_ids.keys():\n",
    "        new_annot[\"category_id\"] = reid_categories_ids[category_id]\n",
    "        new_coco_annotations.append(new_annot)"
   ]
  },
  {
   "cell_type": "code",
   "execution_count": null,
   "id": "66b70283-c10d-45a9-a8f0-9b264717eb9c",
   "metadata": {
    "tags": []
   },
   "outputs": [],
   "source": [
    "# apply new annotation\n",
    "coco_annotation[\"categories\"] = select_categories.copy()\n",
    "coco_annotation[\"annotations\"] = new_coco_annotations.copy()"
   ]
  },
  {
   "cell_type": "code",
   "execution_count": null,
   "id": "92264932-cc28-4917-a51e-2561ad5de4b8",
   "metadata": {
    "scrolled": true,
    "tags": []
   },
   "outputs": [],
   "source": [
    "coco_annotation.keys()"
   ]
  },
  {
   "cell_type": "markdown",
   "id": "12ae3ce7-8d97-43e7-80a7-ae4c0ba94540",
   "metadata": {},
   "source": [
    "### Split Dataset to Train, Valid and Test"
   ]
  },
  {
   "cell_type": "code",
   "execution_count": null,
   "id": "632979d5-58ff-429f-bae7-c644c1dcc811",
   "metadata": {
    "tags": []
   },
   "outputs": [],
   "source": [
    "# split to train and valid parts\n",
    "train_coco_images, val_coco_images = train_test_split(coco_annotation[\"images\"], test_size=0.33, random_state=42)\n",
    "val_coco_images, test_coco_images = train_test_split(val_coco_images.copy(), test_size=0.1, random_state=42)\n",
    "\n",
    "train_images_ids = [img_info[\"id\"] for img_info in train_coco_images]\n",
    "val_images_ids = [img_info[\"id\"] for img_info in val_coco_images]\n",
    "test_images_ids = [img_info[\"id\"] for img_info in test_coco_images]\n",
    "\n",
    "train_images_names = [img_info[\"file_name\"] for img_info in train_coco_images]\n",
    "val_images_names = [img_info[\"file_name\"] for img_info in val_coco_images]\n",
    "test_images_names = [img_info[\"file_name\"] for img_info in test_coco_images]"
   ]
  },
  {
   "cell_type": "code",
   "execution_count": null,
   "id": "fa10636c-cf16-4f92-aedb-ea44cad15c72",
   "metadata": {
    "tags": []
   },
   "outputs": [],
   "source": [
    "# print count images from train, valid and test datasets\n",
    "print(\"Count images for train datasets: \", len(train_images_ids))\n",
    "print(\"Count images for valid datasets: \", len(val_images_ids))\n",
    "print(\"Count images for test datasets: \", len(test_images_ids))"
   ]
  },
  {
   "cell_type": "code",
   "execution_count": null,
   "id": "127eb3e2-2ff2-462e-83ba-9bb9fc127d20",
   "metadata": {
    "tags": []
   },
   "outputs": [],
   "source": [
    "train_coco_annotations = [annot.copy() for annot in coco_annotation[\"annotations\"] if annot[\"image_id\"] in train_images_ids]\n",
    "val_coco_annotations = [annot.copy() for annot in coco_annotation[\"annotations\"] if annot[\"image_id\"] in val_images_ids]\n",
    "test_coco_annotations = [annot.copy() for annot in coco_annotation[\"annotations\"] if annot[\"image_id\"] in test_images_ids]"
   ]
  },
  {
   "cell_type": "code",
   "execution_count": null,
   "id": "4028cf9a-8e1a-4268-9b28-3b78e28438fb",
   "metadata": {
    "tags": []
   },
   "outputs": [],
   "source": [
    "train_coco = coco_annotation.copy()\n",
    "train_coco[\"images\"] = train_coco_images\n",
    "train_coco[\"annotations\"] = train_coco_annotations\n",
    "\n",
    "val_coco = coco_annotation.copy()\n",
    "val_coco[\"images\"] = val_coco_images\n",
    "val_coco[\"annotations\"] = val_coco_annotations\n",
    "\n",
    "test_coco = coco_annotation.copy()\n",
    "test_coco[\"images\"] = test_coco_images\n",
    "test_coco[\"annotations\"] = test_coco_annotations"
   ]
  },
  {
   "cell_type": "markdown",
   "id": "d6da8ec3-5a2b-41c4-8d99-cfe2934d32d1",
   "metadata": {},
   "source": [
    "### Review Datasets"
   ]
  },
  {
   "cell_type": "code",
   "execution_count": null,
   "id": "08899895-6ae5-414d-a956-aca9f272ffb5",
   "metadata": {
    "tags": []
   },
   "outputs": [],
   "source": [
    "# preview data for train and valid dataset\n",
    "preview_coco_file(train_coco, img_folder=tmp_outputs.images, count=2)\n",
    "preview_coco_file(val_coco, img_folder=tmp_outputs.images, count=2)\n",
    "preview_coco_file(test_coco, img_folder=tmp_outputs.images, count=2)"
   ]
  },
  {
   "cell_type": "code",
   "execution_count": null,
   "id": "2902fccd-ae38-466b-8f9c-31df58018690",
   "metadata": {
    "tags": []
   },
   "outputs": [],
   "source": [
    "import matplotlib.pyplot as plt\n",
    "\n",
    "areas  = []\n",
    "counts = []\n",
    "categories = []\n",
    "categories_annotation = []\n",
    "\n",
    "anns = coco_annotation.get('annotations', [])\n",
    "for image in coco_annotation.get('images', []):\n",
    "    image_anns = [ann for ann in anns if ann['image_id'] == image['id']]\n",
    "    counts.append(len(image_anns))\n",
    "    \n",
    "    for ann in image_anns:\n",
    "        areas.append(ann.get('area'))\n",
    "        categories.append(ann.get('category_id'))\n",
    "    \n",
    "    categories_annotation += coco_annotation['categories']\n",
    "           \n",
    "counts = np.array(counts)\n",
    "areas  = np.array(areas)"
   ]
  },
  {
   "cell_type": "code",
   "execution_count": null,
   "id": "b243cd46-de20-431c-8919-9c8d894f3681",
   "metadata": {
    "tags": []
   },
   "outputs": [],
   "source": [
    "import plotly.express as px\n",
    "\n",
    "fig = px.histogram(areas, title='Площать объектов на фотографиях датасета')\n",
    "fig.layout.yaxis.title = 'Кол-во объектов'\n",
    "fig.layout.xaxis.title = 'Площадь'\n",
    "fig.show()"
   ]
  },
  {
   "cell_type": "code",
   "execution_count": null,
   "id": "0fee7dbd-d70d-48a0-8ff6-f4ce7acc1229",
   "metadata": {
    "tags": []
   },
   "outputs": [],
   "source": [
    "fig = px.histogram(counts, title='Кол-во объектов на фотографиях датасета')\n",
    "fig.layout.yaxis.title = 'Кол-во объектов'\n",
    "fig.layout.xaxis.title = 'Кол-во фотографий'\n",
    "fig.show()"
   ]
  },
  {
   "cell_type": "markdown",
   "id": "5a13221d-3524-497e-9761-fac7b0b4419f",
   "metadata": {
    "tags": []
   },
   "source": [
    "### Save train, validation and test datasets to parquets"
   ]
  },
  {
   "cell_type": "code",
   "execution_count": null,
   "id": "b203dbcc-0356-476c-8e0e-28d37feb1dd9",
   "metadata": {
    "tags": []
   },
   "outputs": [],
   "source": [
    "### Save train, validation and test datasets to parquet\n",
    "import json\n",
    "from pathlib import Path\n",
    "from tqdm import tqdm\n",
    "import pandas as pd\n",
    "\n",
    "def build_pandas_df(_coco_data, img_folder:str = \"\"):\n",
    "    pack = []\n",
    "    for img_info in tqdm(_coco_data[\"images\"]):\n",
    "        row = {\n",
    "            \"file_names\"       : None,\n",
    "            \"files_binary\"     : None,\n",
    "        }\n",
    "        file_name = osp.join(img_folder, img_info[\"file_name\"])\n",
    "        with open(file_name, 'rb') as file_fd:\n",
    "            row['files_binary'] = file_fd.read()\n",
    "        row[\"file_names\"] = img_info[\"file_name\"]\n",
    "        pack.append(row.copy())\n",
    "    return pack"
   ]
  },
  {
   "cell_type": "code",
   "execution_count": null,
   "id": "bfe25f35-0ecf-40fb-8d60-0b11f2234ccd",
   "metadata": {
    "tags": []
   },
   "outputs": [],
   "source": [
    "data_train_df =  build_pandas_df(train_coco, img_folder=tmp_outputs.images)\n",
    "data_train_df = spark.createDataFrame(data_train_df)\n",
    "data_train_df.printSchema()\n",
    "\n",
    "data_val_df =  build_pandas_df(val_coco, img_folder=tmp_outputs.images)\n",
    "data_val_df = spark.createDataFrame(data_val_df)\n",
    "data_val_df.printSchema()\n",
    "\n",
    "data_test_df =  build_pandas_df(test_coco, img_folder=tmp_outputs.images)\n",
    "data_test_df = spark.createDataFrame(data_test_df)\n",
    "data_test_df.printSchema()"
   ]
  },
  {
   "cell_type": "code",
   "execution_count": null,
   "id": "aad6ec96-e36a-41a9-b120-345dc5ae28ca",
   "metadata": {
    "tags": []
   },
   "outputs": [],
   "source": [
    "data_train_df.write.mode(\"overwrite\").option(\"compression\", \"none\").parquet(tmp_outputs.train_data)\n",
    "data_val_df.write.mode(\"overwrite\").option(\"compression\", \"none\").parquet(tmp_outputs.eval_data)\n",
    "data_test_df.write.mode(\"overwrite\").option(\"compression\", \"none\").parquet(tmp_outputs.test_data)"
   ]
  },
  {
   "cell_type": "markdown",
   "id": "181e5954-40b3-44f3-b239-aed65260c2a5",
   "metadata": {},
   "source": [
    "### Save train, validation and test annotations to json"
   ]
  },
  {
   "cell_type": "code",
   "execution_count": null,
   "id": "9e23e4c6-4ee0-47c1-8bbb-ab5fe8cb5f89",
   "metadata": {
    "tags": []
   },
   "outputs": [],
   "source": [
    "# save train and valid annotations by json to tmp_outputs.train_val_config\n",
    "# save test annotations by json to tmp_outputs.test_config\n",
    "train_annotation_path = osp.join(tmp_outputs.train_eval_config, \"train_coco_annotations.json\")\n",
    "val_annotation_path = osp.join(tmp_outputs.train_eval_config, \"val_coco_annotations.json\")\n",
    "test_annotation_path = osp.join(tmp_outputs.test_config, \"test_coco_annotations.json\")\n",
    "\n",
    "with open(train_annotation_path, 'w') as f:\n",
    "    json.dump(train_coco, f, indent=4)\n",
    "\n",
    "with open(val_annotation_path, 'w') as f:\n",
    "    json.dump(val_coco, f, indent=4)\n",
    "    \n",
    "with open(test_annotation_path, 'w') as f:\n",
    "    json.dump(test_coco, f, indent=4)\n",
    "    \n",
    "CONFIG = dict(**substep_params)\n",
    "CONFIG[\"train_coco_annotation\"] = \"train_coco_annotations.json\"\n",
    "CONFIG[\"val_coco_annotation\"] = \"val_coco_annotations.json\"\n",
    "CONFIG[\"test_coco_annotation\"] = \"test_coco_annotations.json\"\n",
    "CONFIG[\"train_images\"] = \"train_data\"\n",
    "CONFIG[\"val_images\"] = \"eval_data\"\n",
    "CONFIG[\"test_images\"] = \"test_data\"\n",
    "CONFIG[\"CLASSES\"] = CLASSES\n",
    "\n",
    "config_path = osp.join(tmp_outputs.train_eval_config, \"config.json\")\n",
    "with open(config_path, 'w') as f:\n",
    "    json.dump(CONFIG, f, indent=4)\n",
    "    \n",
    "config_path = osp.join(tmp_outputs.test_config, \"config.json\")\n",
    "with open(config_path, 'w') as f:\n",
    "    json.dump(CONFIG, f, indent=4)   \n"
   ]
  },
  {
   "cell_type": "markdown",
   "id": "90687e97-db34-493a-b087-184f62fc2a34",
   "metadata": {},
   "source": [
    "### Send train, validation, test dataset and annotations to outputs"
   ]
  },
  {
   "cell_type": "code",
   "execution_count": null,
   "id": "305aec9c-b4ae-4f15-bba2-65577c70d189",
   "metadata": {
    "tags": []
   },
   "outputs": [],
   "source": [
    "from sinara.store import SinaraStore\n",
    "\n",
    "SinaraStore.copy_tmp_files_to_store(tmp_dir=tmp_outputs.train_data, store_dir=outputs.train_data)\n",
    "SinaraStore.copy_tmp_files_to_store(tmp_dir=tmp_outputs.eval_data, store_dir=outputs.eval_data)\n",
    "SinaraStore.copy_tmp_files_to_store(tmp_dir=tmp_outputs.test_data, store_dir=outputs.test_data)\n",
    "SinaraStore.copy_tmp_files_to_store(tmp_dir=tmp_outputs.train_eval_config, store_dir=outputs.train_eval_config)\n",
    "SinaraStore.copy_tmp_files_to_store(tmp_dir=tmp_outputs.test_config, store_dir=outputs.test_config)"
   ]
  },
  {
   "cell_type": "code",
   "execution_count": null,
   "id": "e44dab20-5483-485e-b734-3042135d48d8",
   "metadata": {
    "tags": []
   },
   "outputs": [],
   "source": [
    "#7 stop spark\n",
    "SinaraSpark.stop_session()"
   ]
  },
  {
   "cell_type": "code",
   "execution_count": null,
   "id": "3c900d8e-a8d5-46f0-8640-7d1fe3f9f14f",
   "metadata": {},
   "outputs": [],
   "source": []
  }
 ],
 "metadata": {
  "kernelspec": {
   "display_name": "Python 3 (ipykernel)",
   "language": "python",
   "name": "python3"
  },
  "language_info": {
   "codemirror_mode": {
    "name": "ipython",
    "version": 3
   },
   "file_extension": ".py",
   "mimetype": "text/x-python",
   "name": "python",
   "nbconvert_exporter": "python",
   "pygments_lexer": "ipython3",
   "version": "3.10.9"
  }
 },
 "nbformat": 4,
 "nbformat_minor": 5
}
