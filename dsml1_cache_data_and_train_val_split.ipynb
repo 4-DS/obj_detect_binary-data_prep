{
 "cells": [
  {
   "cell_type": "code",
   "execution_count": null,
   "metadata": {
    "tags": []
   },
   "outputs": [],
   "source": [
    "%load_ext autoreload\n",
    "%autoreload 2"
   ]
  },
  {
   "cell_type": "code",
   "execution_count": null,
   "metadata": {
    "tags": []
   },
   "outputs": [],
   "source": [
    "#1. import dsml base module\n",
    "from dsml_s8e.notebook import CurrentComponent, ResourceComponent, RunResult\n",
    "from dsml_s8e.module import DSMLModule, DSMLModuleRunResult"
   ]
  },
  {
   "cell_type": "code",
   "execution_count": null,
   "metadata": {
    "tags": [
     "parameters"
    ]
   },
   "outputs": [],
   "source": [
    "#2. specify parameters\n",
    "\n",
    "# Parameters\n",
    "run_parameters = {\n",
    "    \"env_name\": \"user\",\n",
    "    \"product_name\": \"cv_example\",\n",
    "    \"stand_name\": \"YOLOX_mmdet\",\n",
    "    \"docker_image\": \"cv-no-gpu:latest\",\n",
    "    \"conda_env\": \"gpu\",\n",
    "    \"business_report_repo\": \"\",\n",
    "    \"infra\": {},\n",
    "    \"comment\": {},\n",
    "}\n",
    "\n",
    "parameters = {\n",
    "    \"all_datasets\" : [\"/data/home/lakidon_pm/cv_example/YOLOX_mmdet/all_data\", \n",
    "    ],  \n",
    "}"
   ]
  },
  {
   "cell_type": "code",
   "execution_count": null,
   "metadata": {
    "tags": []
   },
   "outputs": [],
   "source": [
    "import json\n",
    "\n",
    "print(json.dumps(parameters, indent=4))"
   ]
  },
  {
   "cell_type": "code",
   "execution_count": null,
   "metadata": {
    "tags": []
   },
   "outputs": [],
   "source": [
    "from timeit import default_timer as timer\n",
    "\n",
    "import os\n",
    "import csv\n",
    "import json\n",
    "import random\n",
    "import cv2\n",
    "from tqdm import tqdm\n",
    "import numpy as np\n",
    "import random\n",
    "\n",
    "random.seed(42)\n",
    "np.random.seed(42)\n",
    "\n",
    "module = DSMLModule(parameters, run_parameters)\n",
    "\n",
    "# temporary speed cache (like ssd 100Gb) for unzip parquents, need to use for train, test. Will be removed after job end\n",
    "cache_urls = module.make_cache_urls(\n",
    "    new_cache_entity_names=[\"cache_data\"],    \n",
    "    last_cache_entity_names=[])\n",
    "\n",
    "data_custom_list = []\n",
    "for i, dataset_link in enumerate(parameters['all_datasets']):\n",
    "    data_custom_list.append(dataset_link)\n",
    "\n",
    "resource_urls = module.make_component_resource_urls(\"1_data_import\", \n",
    "    entity_names=[\n",
    "        *(f'all_data_{i}' for i in range(len(data_custom_list))),\n",
    "    ]\n",
    ")\n",
    "\n",
    "a7s_urls = module.make_artifacts_urls(\n",
    "    entity_names=[\n",
    "        \"split_config\",\n",
    "    ]\n",
    ")\n",
    "\n",
    "module.print_urls()"
   ]
  },
  {
   "cell_type": "code",
   "execution_count": null,
   "metadata": {
    "tags": []
   },
   "outputs": [],
   "source": [
    "from dsml_s8e.spark import SparkEnvironment\n",
    "\n",
    "SparkEnvironment.stopSparkSession()\n",
    "spark = SparkEnvironment.runSparkSession(0)\n",
    "SparkEnvironment.showSparkUI()\n",
    "\n",
    "import atexit\n",
    "_=atexit.register(SparkEnvironment.stopSparkSession)"
   ]
  },
  {
   "cell_type": "code",
   "execution_count": null,
   "metadata": {
    "tags": []
   },
   "outputs": [],
   "source": [
    "cache_urls.cache_data"
   ]
  },
  {
   "cell_type": "code",
   "execution_count": null,
   "metadata": {
    "tags": []
   },
   "outputs": [],
   "source": [
    "# CACHE DATA\n",
    "\n",
    "from timeit import default_timer as timer\n",
    "\n",
    "from os import path, makedirs\n",
    "\n",
    "t_begin = timer()\n",
    "print(f\"spark read start\")\n",
    "\n",
    "def save_file(file):\n",
    "    file_name = path.join(cache_urls.cache_data, file.file_names)\n",
    "    file_binary = file.files_binary\n",
    "\n",
    "    makedirs(path.dirname(file_name), exist_ok=True)        \n",
    "    with open(file_name, 'wb') as f_id:\n",
    "        f_id.write(file_binary)\n",
    "        \n",
    "for i in range(len(parameters['all_datasets'])):\n",
    "    df_spark = spark.read.parquet(eval(f'resource_urls.all_data_{i}'))\n",
    "    df_spark.foreach(save_file)\n",
    "\n",
    "process_time = timer() - t_begin\n",
    "print(f\"spark data to cache end\\nt = {process_time:0.1f} sec\\n{'=' * 100}\")"
   ]
  },
  {
   "cell_type": "code",
   "execution_count": null,
   "metadata": {
    "tags": []
   },
   "outputs": [],
   "source": [
    "!ls {cache_urls.cache_data}"
   ]
  },
  {
   "cell_type": "code",
   "execution_count": null,
   "metadata": {
    "tags": []
   },
   "outputs": [],
   "source": [
    "# Split train and val\n",
    "\n",
    "train_datasets = []\n",
    "eval_datasets = []\n",
    "\n",
    "for dataset in os.listdir(cache_urls.cache_data):\n",
    "    if 'eval' in dataset:\n",
    "        eval_datasets.append(dataset)\n",
    "    else:\n",
    "        train_datasets.append(dataset)"
   ]
  },
  {
   "cell_type": "code",
   "execution_count": null,
   "metadata": {
    "tags": []
   },
   "outputs": [],
   "source": [
    "print(f'{train_datasets=}')\n",
    "print(f'{eval_datasets=}')"
   ]
  },
  {
   "cell_type": "code",
   "execution_count": null,
   "metadata": {
    "tags": []
   },
   "outputs": [],
   "source": [
    "SPLIT_CONFIG = {\n",
    "    'train_datasets': train_datasets,\n",
    "    'eval_datasets': eval_datasets,\n",
    "}\n",
    "\n",
    "with open(os.path.join(cache_urls.cache_data, 'split_config.json'), 'w') as f:\n",
    "    json.dump(SPLIT_CONFIG, f)"
   ]
  },
  {
   "cell_type": "markdown",
   "metadata": {},
   "source": [
    "Для того, чтобы скопировать **только один файл** из кэша на *HDFS* существует функция \n",
    "```\n",
    "DSMLStore.copy_file_to_store(resource_cache_path, target_hdfs_path)\n",
    "```\n",
    "Если файлов много, то нужно конвертировать их в формат `parquet` и использовать *Spark* для загрузки. Пример для этого случая будет в модуле `3_aug_dataset_and_save_prepared.ipynb` \n",
    "\n",
    "Также существует функция \n",
    "```\n",
    "DSMLStore.copy_file_to_cache(resource_hdfs_path, target_cache_path)\n",
    "```\n",
    "но ей мы воспользуемся в модуле `2_preview_dataset.ipynb`"
   ]
  },
  {
   "cell_type": "code",
   "execution_count": null,
   "metadata": {
    "tags": []
   },
   "outputs": [],
   "source": [
    "from dsml_s8e.store import DSMLStore\n",
    "\n",
    "DSMLStore.copy_file_to_store(os.path.join(cache_urls.cache_data, 'split_config.json'), os.path.join(a7s_urls.split_config, 'split_config.json'))"
   ]
  },
  {
   "cell_type": "code",
   "execution_count": null,
   "metadata": {
    "tags": []
   },
   "outputs": [],
   "source": [
    "#11 #SparkEnvironment.stopSparkSession()\n",
    "\n",
    "SparkEnvironment.stopSparkSession()"
   ]
  },
  {
   "cell_type": "code",
   "execution_count": null,
   "metadata": {},
   "outputs": [],
   "source": []
  }
 ],
 "metadata": {
  "celltoolbar": "Tags",
  "kernelspec": {
   "display_name": "cv",
   "language": "python",
   "name": "cv"
  },
  "language_info": {
   "codemirror_mode": {
    "name": "ipython",
    "version": 3
   },
   "file_extension": ".py",
   "mimetype": "text/x-python",
   "name": "python",
   "nbconvert_exporter": "python",
   "pygments_lexer": "ipython3",
   "version": "3.9.10"
  }
 },
 "nbformat": 4,
 "nbformat_minor": 4
}
