{
 "cells": [
  {
   "cell_type": "code",
   "execution_count": null,
   "metadata": {
    "tags": []
   },
   "outputs": [],
   "source": [
    "%load_ext autoreload\n",
    "%autoreload 2"
   ]
  },
  {
   "cell_type": "code",
   "execution_count": null,
   "metadata": {
    "tags": []
   },
   "outputs": [],
   "source": [
    "#1. import dsml base module\n",
    "from dsml_s8e.notebook import CurrentComponent, ResourceComponent, RunResult\n",
    "from dsml_s8e.module import DSMLModule, DSMLModuleRunResult"
   ]
  },
  {
   "cell_type": "code",
   "execution_count": null,
   "metadata": {
    "tags": [
     "parameters"
    ]
   },
   "outputs": [],
   "source": [
    "#2. specify parameters\n",
    "\n",
    "# Parameters\n",
    "run_parameters = {\n",
    "    \"env_name\": \"user\",\n",
    "    \"product_name\": \"cv_example\",\n",
    "    \"stand_name\": \"YOLOX_mmdet\",\n",
    "    \"docker_image\": \"cv-no-gpu:latest\",\n",
    "    \"conda_env\": \"gpu\",\n",
    "    \"business_report_repo\": \"\",\n",
    "    \"infra\": {},\n",
    "    \"comment\": {},\n",
    "}\n",
    "\n",
    "parameters = {}"
   ]
  },
  {
   "cell_type": "code",
   "execution_count": null,
   "metadata": {
    "tags": []
   },
   "outputs": [],
   "source": [
    "import json\n",
    "\n",
    "print(json.dumps(parameters, indent=4))"
   ]
  },
  {
   "cell_type": "code",
   "execution_count": null,
   "metadata": {
    "tags": []
   },
   "outputs": [],
   "source": [
    "from timeit import default_timer as timer\n",
    "\n",
    "import os\n",
    "import csv\n",
    "import json\n",
    "import random\n",
    "import cv2\n",
    "from tqdm import tqdm\n",
    "import numpy as np\n",
    "import random\n",
    "\n",
    "random.seed(42)\n",
    "np.random.seed(42)\n",
    "\n",
    "module = DSMLModule(parameters, run_parameters)\n",
    "\n",
    "# temporary speed cache (like ssd 100Gb) for unzip parquents, need to use for train, test. Will be removed after job end\n",
    "cache_urls = module.make_cache_urls(\n",
    "    new_cache_entity_names=[],    \n",
    "    last_cache_entity_names=[\"cache_data\"])\n",
    "\n",
    "resource_urls = module.make_component_resource_urls(\"1_data_import\", \n",
    "    entity_names=[\n",
    "        \"split_config\",\n",
    "    ]\n",
    ")"
   ]
  },
  {
   "cell_type": "code",
   "execution_count": null,
   "metadata": {
    "tags": []
   },
   "outputs": [],
   "source": [
    "from dsml_s8e.spark import SparkEnvironment\n",
    "\n",
    "SparkEnvironment.stopSparkSession()\n",
    "spark = SparkEnvironment.runSparkSession(0)\n",
    "SparkEnvironment.showSparkUI()\n",
    "\n",
    "import atexit\n",
    "_=atexit.register(SparkEnvironment.stopSparkSession)"
   ]
  },
  {
   "cell_type": "code",
   "execution_count": null,
   "metadata": {
    "tags": []
   },
   "outputs": [],
   "source": [
    "!ls -lah {cache_urls.cache_data}"
   ]
  },
  {
   "cell_type": "code",
   "execution_count": null,
   "metadata": {
    "tags": []
   },
   "outputs": [],
   "source": [
    "def get_files(path, extensions, relative=True):\n",
    "    from pathlib import Path\n",
    "\n",
    "    if type(extensions) is str:\n",
    "        extensions = [extensions]\n",
    "\n",
    "    all_files = []\n",
    "    for ext in extensions:\n",
    "        if relative:\n",
    "            all_files.extend(Path(path).rglob(ext))\n",
    "        else:\n",
    "            all_files.extend(Path(path).glob(ext))\n",
    "\n",
    "    for i in range(len(all_files)):\n",
    "        all_files[i] = str(all_files[i])\n",
    "\n",
    "    return all_files"
   ]
  },
  {
   "cell_type": "markdown",
   "metadata": {},
   "source": [
    "Для того, чтобы загрузить один файл из *HDFS*в локальный кэш нужно использовать функцию\n",
    "```\n",
    "DSMLStore.copy_file_to_cache(resource_hdfs_path, target_cache_path)\n",
    "```"
   ]
  },
  {
   "cell_type": "code",
   "execution_count": null,
   "metadata": {
    "tags": []
   },
   "outputs": [],
   "source": [
    "from dsml_s8e.store import DSMLStore\n",
    "\n",
    "DSMLStore.copy_file_to_cache(\n",
    "    os.path.join(resource_urls.split_config, 'split_config.json'),\n",
    "    os.path.join(cache_urls.cache_data, 'split_config.json')\n",
    ")"
   ]
  },
  {
   "cell_type": "code",
   "execution_count": null,
   "metadata": {
    "tags": []
   },
   "outputs": [],
   "source": [
    "split_config_path = os.path.join(cache_urls.cache_data, 'split_config.json')\n",
    "\n",
    "with open(split_config_path) as f:\n",
    "    SPLIT_CONFIG = json.load(f)"
   ]
  },
  {
   "cell_type": "code",
   "execution_count": null,
   "metadata": {
    "tags": []
   },
   "outputs": [],
   "source": [
    "CONFIG = dict(\n",
    "    TRAIN_DATASET_DIRS=[os.path.join(cache_urls.cache_data, d) for d in SPLIT_CONFIG['train_datasets']],\n",
    "    EVAL_DATASET_DIRS=[os.path.join(cache_urls.cache_data, d) for d in SPLIT_CONFIG['eval_datasets']],\n",
    ")"
   ]
  },
  {
   "cell_type": "code",
   "execution_count": null,
   "metadata": {
    "tags": []
   },
   "outputs": [],
   "source": [
    "from utils import get_files\n",
    "from utils.coco import preview_coco_file, load as load_coco, dump as dump_coco"
   ]
  },
  {
   "cell_type": "code",
   "execution_count": null,
   "metadata": {
    "tags": []
   },
   "outputs": [],
   "source": [
    "real_files = []\n",
    "for dir_path in CONFIG.get('TRAIN_DATASET_DIRS', []):\n",
    "    real_files += get_files(dir_path, '*.json')\n",
    "\n",
    "print(f\"{len(real_files)=}\")\n",
    "\n",
    "eval_files = []\n",
    "for dir_path in CONFIG.get('EVAL_DATASET_DIRS', []):\n",
    "    eval_files += get_files(dir_path, '*.json')\n",
    "\n",
    "print(f\"{len(eval_files)=}\")"
   ]
  },
  {
   "cell_type": "code",
   "execution_count": null,
   "metadata": {
    "tags": []
   },
   "outputs": [],
   "source": [
    "for files in [real_files, eval_files]:\n",
    "    if files:\n",
    "        try:\n",
    "            preview_coco_file(files[0], max_objects=2000)\n",
    "        except:\n",
    "            continue            "
   ]
  },
  {
   "cell_type": "code",
   "execution_count": null,
   "metadata": {
    "tags": []
   },
   "outputs": [],
   "source": [
    "import matplotlib.pyplot as plt\n",
    "\n",
    "areas  = []\n",
    "counts = []\n",
    "categories = []\n",
    "categories_annotation = []\n",
    "\n",
    "for files in [real_files, eval_files]:\n",
    "    if files:\n",
    "        for file in tqdm(files):\n",
    "            coco_data = load_coco(file)\n",
    "            \n",
    "            anns = coco_data.get('annotations', [])\n",
    "            \n",
    "            for image in coco_data.get('images', []):\n",
    "                image_anns = [ann for ann in anns if ann['image_id'] == image['id']]\n",
    "                counts.append(len(image_anns))\n",
    "\n",
    "                for ann in image_anns:\n",
    "                    areas.append(ann.get('area'))\n",
    "                    categories.append(ann.get('category_id'))\n",
    "            \n",
    "            categories_annotation += coco_data['categories']\n",
    "            \n",
    "counts = np.array(counts)\n",
    "areas  = np.array(areas)"
   ]
  },
  {
   "cell_type": "code",
   "execution_count": null,
   "metadata": {
    "tags": []
   },
   "outputs": [],
   "source": [
    "for _category in [json.loads(_data) for _data in set([json.dumps(_data) for _data in categories_annotation])]:\n",
    "    print(_category)"
   ]
  },
  {
   "cell_type": "code",
   "execution_count": null,
   "metadata": {
    "tags": []
   },
   "outputs": [],
   "source": [
    "np.unique(categories)"
   ]
  },
  {
   "cell_type": "code",
   "execution_count": null,
   "metadata": {
    "tags": []
   },
   "outputs": [],
   "source": [
    "import plotly.express as px\n",
    "\n",
    "fig = px.histogram(areas, title='Площать объектов на фотографиях датасета')\n",
    "fig.layout.yaxis.title = 'Кол-во объектов'\n",
    "fig.layout.xaxis.title = 'Площадь'\n",
    "fig.show()"
   ]
  },
  {
   "cell_type": "code",
   "execution_count": null,
   "metadata": {
    "tags": []
   },
   "outputs": [],
   "source": [
    "fig = px.histogram(counts, title='Кол-во объектов на фотографиях датасета')\n",
    "fig.layout.yaxis.title = 'Кол-во объектов'\n",
    "fig.layout.xaxis.title = 'Кол-во фотографий'\n",
    "fig.show()"
   ]
  },
  {
   "cell_type": "code",
   "execution_count": null,
   "metadata": {
    "tags": []
   },
   "outputs": [],
   "source": [
    "#11 #SparkEnvironment.stopSparkSession()\n",
    "\n",
    "SparkEnvironment.stopSparkSession()"
   ]
  },
  {
   "cell_type": "code",
   "execution_count": null,
   "metadata": {},
   "outputs": [],
   "source": []
  }
 ],
 "metadata": {
  "celltoolbar": "Tags",
  "kernelspec": {
   "display_name": "cv",
   "language": "python",
   "name": "cv"
  },
  "language_info": {
   "codemirror_mode": {
    "name": "ipython",
    "version": 3
   },
   "file_extension": ".py",
   "mimetype": "text/x-python",
   "name": "python",
   "nbconvert_exporter": "python",
   "pygments_lexer": "ipython3",
   "version": "3.9.10"
  }
 },
 "nbformat": 4,
 "nbformat_minor": 4
}
