{
 "cells": [
  {
   "cell_type": "code",
   "execution_count": 1,
   "id": "08b51d99-fd2b-4adb-932e-5e735071d2ca",
   "metadata": {
    "tags": []
   },
   "outputs": [],
   "source": [
    "%load_ext autoreload\n",
    "%autoreload 2"
   ]
  },
  {
   "cell_type": "code",
   "execution_count": 2,
   "id": "031a7adf-aea0-406a-b5df-9dca5e361f32",
   "metadata": {
    "tags": [
     "params"
    ]
   },
   "outputs": [],
   "source": [
    "#2. specify parameters\n",
    "pipeline_params={\n",
    "}\n",
    "step_params={\n",
    "}\n",
    "substep_params={\n",
    "    \"FILTER_EMPTY_GT\"    : False,\n",
    "    \"AUGMENTATION_TYPE\"  : 1,\n",
    "    \"MIN_OBJECT_SIZE\"    : 5,\n",
    "    \"MAX_SIZE\"           : 1024,\n",
    "    \"KEEP_RATIO\"         : True\n",
    "}"
   ]
  },
  {
   "cell_type": "code",
   "execution_count": 3,
   "id": "59375309-d097-4171-beb7-b9153a9b754e",
   "metadata": {
    "tags": []
   },
   "outputs": [
    {
     "data": {
      "text/markdown": [
       "**OUTPUTS:**\n"
      ],
      "text/plain": [
       "<IPython.core.display.Markdown object>"
      ]
     },
     "metadata": {},
     "output_type": "display_data"
    },
    {
     "name": "stdout",
     "output_type": "stream",
     "text": [
      "[{'user.yolox_mmdet.zone.1_data_import.train_coco_data': '/data/home/jovyan/yolox_mmdet/zone/1_data_import/run-23-10-10-064744/train_coco_data'},\n",
      " {'user.yolox_mmdet.zone.1_data_import.eval_coco_data': '/data/home/jovyan/yolox_mmdet/zone/1_data_import/run-23-10-10-064744/eval_coco_data'},\n",
      " {'user.yolox_mmdet.zone.1_data_import.cache_config': '/data/home/jovyan/yolox_mmdet/zone/1_data_import/run-23-10-10-064744/cache_config'}]\n",
      "\n",
      "\n"
     ]
    },
    {
     "data": {
      "text/markdown": [
       "**TMP OUTPUTS:**\n"
      ],
      "text/plain": [
       "<IPython.core.display.Markdown object>"
      ]
     },
     "metadata": {},
     "output_type": "display_data"
    },
    {
     "name": "stdout",
     "output_type": "stream",
     "text": [
      "[{'cache:user.yolox_mmdet.zone.1_data_import.cache_data': '/data/cache/user/yolox_mmdet/zone/1_data_import/run-23-10-10-064744/cache_data'}]\n",
      "\n",
      "\n"
     ]
    }
   ],
   "source": [
    "#3 define substep interface\n",
    "from sinara.substep import NotebookSubstep, default_param_values, ENV_NAME, PIPELINE_NAME, ZONE_NAME, STEP_NAME, RUN_ID, ENTITY_NAME, ENTITY_PATH, SUBSTEP_NAME\n",
    "\n",
    "substep = NotebookSubstep(pipeline_params, step_params, substep_params, **default_param_values(\"params/step_params.json\"))\n",
    "\n",
    "substep.interface(\n",
    "    outputs = \n",
    "    [\n",
    "        { ENTITY_NAME: \"train_coco_data\"},\n",
    "        { ENTITY_NAME: \"eval_coco_data\"},\n",
    "        { ENTITY_NAME: \"cache_config\"}\n",
    "    ],\n",
    "    tmp_outputs =\n",
    "    [\n",
    "        { ENTITY_NAME: \"cache_data\" }\n",
    "    ]\n",
    ")\n",
    "\n",
    "substep.print_interface_info()\n",
    "\n",
    "substep.exit_in_visualize_mode()"
   ]
  },
  {
   "cell_type": "code",
   "execution_count": 4,
   "id": "4eaf6ec9-740d-4ec4-8d21-255c0d9d28e3",
   "metadata": {
    "tags": []
   },
   "outputs": [],
   "source": [
    "#4 write outputs\n",
    "outputs = substep.outputs()\n",
    "tmp_outputs = substep.tmp_outputs()"
   ]
  },
  {
   "cell_type": "code",
   "execution_count": 5,
   "id": "bdee7cfd-2e5f-4997-ab6d-0d1706814b8b",
   "metadata": {
    "tags": []
   },
   "outputs": [
    {
     "name": "stdout",
     "output_type": "stream",
     "text": [
      "Session is run\n"
     ]
    },
    {
     "name": "stderr",
     "output_type": "stream",
     "text": [
      "Setting default log level to \"WARN\".\n",
      "To adjust logging level use sc.setLogLevel(newLevel). For SparkR, use setLogLevel(newLevel).\n",
      "23/10/10 06:47:50 WARN NativeCodeLoader: Unable to load native-hadoop library for your platform... using builtin-java classes where applicable\n"
     ]
    },
    {
     "data": {
      "text/plain": [
       "'http://localhost:4040'"
      ]
     },
     "execution_count": 5,
     "metadata": {},
     "output_type": "execute_result"
    }
   ],
   "source": [
    "#5 run spark\n",
    "from sinara.spark import SinaraSpark\n",
    "\n",
    "spark = SinaraSpark.run_session(0)\n",
    "SinaraSpark.ui_url()"
   ]
  },
  {
   "cell_type": "markdown",
   "id": "47d5a15f-a8f0-4880-b45d-113f6c648670",
   "metadata": {},
   "source": [
    "#### Dataset description:"
   ]
  },
  {
   "cell_type": "markdown",
   "id": "42b8d5bc-e8e0-4c05-97c7-1b1c6d59acf3",
   "metadata": {},
   "source": [
    "The COCO (Common Objects in Context) dataset is a large-scale image recognition dataset for object detection, segmentation, and captioning tasks. It contains over 330,000 images, each annotated with 80 object categories and 5 captions describing the scene. The COCO dataset is widely used in computer vision research and has been used to train and evaluate many state-of-the-art object detection and segmentation models.\n",
    "\n",
    "The dataset has two main parts: the images and their annotations.\n",
    "\n",
    "The images are organized into a hierarchy of directories, with the top-level directory containing subdirectories for the train, validation, and test sets.\n",
    "The annotations are provided in JSON format, with each file corresponding to a single image.\n",
    "Each annotation in the dataset includes the following information:\n",
    "\n",
    "Image file name\n",
    "Image size (width and height)\n",
    "List of objects with the following information: Object class (e.g., \"person,\" \"car\"); Bounding box coordinates (x, y, width, height); Segmentation mask (polygon or RLE format); Keypoints and their positions (if available)\n",
    "Five captions describing the scene\n",
    "The COCO dataset also provides additional information, such as image super categories, license, and coco-stuff (pixel-wise annotations for stuff classes in addition to 80 object classes).\n",
    "\n",
    "MS COCO offers various types of annotations,\n",
    "\n",
    "Object detection with bounding box coordinates and full segmentation masks for 80 different objects\n",
    "Stuff image segmentation with pixel maps displaying 91 amorphous background areas\n",
    "Panoptic segmentation identifies items in images based on 80 \"things\" and 91 \"stuff\" categories\n",
    "Dense pose with over 39,000 photos featuring over 56,000 tagged persons with a mapping between pixels and a template 3D model and natural language descriptions for each image\n",
    "Keypoint annotations for over 250,000 persons annotated with key points such as the right eye, nose, and left hip"
   ]
  },
  {
   "cell_type": "markdown",
   "id": "8e32ddc0-99c8-47b7-b756-8c892a1815dd",
   "metadata": {},
   "source": [
    "Dataset load process    \n",
    "Download dataset from the internet storage      "
   ]
  },
  {
   "cell_type": "code",
   "execution_count": 13,
   "id": "6547b359-7a54-4d42-969a-be3b3da6a7d4",
   "metadata": {
    "tags": []
   },
   "outputs": [],
   "source": [
    "#5 load dataset \n",
    "data_url = \"http://images.cocodataset.org/zips/val2017.zip\"\n",
    "annot_url = \"http://images.cocodataset.org/annotations/annotations_trainval2017.zip\""
   ]
  },
  {
   "cell_type": "code",
   "execution_count": 14,
   "id": "4df656bd-aba5-43e0-acc7-0e1774d856b1",
   "metadata": {
    "tags": []
   },
   "outputs": [
    {
     "data": {
      "text/plain": [
       "OutputUrls(full_train_coco_data='user.yolox_mmdet.zone.1_data_import.train_coco_data', train_coco_data='/data/home/jovyan/yolox_mmdet/zone/1_data_import/run-23-10-10-064744/train_coco_data', full_eval_coco_data='user.yolox_mmdet.zone.1_data_import.eval_coco_data', eval_coco_data='/data/home/jovyan/yolox_mmdet/zone/1_data_import/run-23-10-10-064744/eval_coco_data', full_cache_config='user.yolox_mmdet.zone.1_data_import.cache_config', cache_config='/data/home/jovyan/yolox_mmdet/zone/1_data_import/run-23-10-10-064744/cache_config')"
      ]
     },
     "execution_count": 14,
     "metadata": {},
     "output_type": "execute_result"
    }
   ],
   "source": [
    "outputs"
   ]
  },
  {
   "cell_type": "code",
   "execution_count": 15,
   "id": "c2dd750b-06fc-4d4b-bfe7-c925b321a83f",
   "metadata": {
    "tags": []
   },
   "outputs": [
    {
     "name": "stdout",
     "output_type": "stream",
     "text": [
      "outputs.train_coco_data='/data/home/jovyan/yolox_mmdet/zone/1_data_import/run-23-10-10-064744/train_coco_data'\n",
      "outputs.eval_coco_data='/data/home/jovyan/yolox_mmdet/zone/1_data_import/run-23-10-10-064744/eval_coco_data'\n",
      "outputs.cache_config='/data/home/jovyan/yolox_mmdet/zone/1_data_import/run-23-10-10-064744/cache_config'\n"
     ]
    }
   ],
   "source": [
    "print(f\"{outputs.train_coco_data=}\")\n",
    "print(f\"{outputs.eval_coco_data=}\")\n",
    "print(f\"{outputs.cache_config=}\")"
   ]
  },
  {
   "cell_type": "code",
   "execution_count": 16,
   "id": "c9c9af50-21a5-4201-8413-58424e53aeb5",
   "metadata": {
    "tags": []
   },
   "outputs": [
    {
     "name": "stdout",
     "output_type": "stream",
     "text": [
      "tmp_outputs.cache_data='/data/cache/user/yolox_mmdet/zone/1_data_import/run-23-10-10-064744/cache_data'\n"
     ]
    }
   ],
   "source": [
    "print(f\"{tmp_outputs.cache_data=}\")"
   ]
  },
  {
   "cell_type": "code",
   "execution_count": 17,
   "id": "51057d65-e249-4395-8271-e5d59df62947",
   "metadata": {
    "tags": []
   },
   "outputs": [],
   "source": [
    "import os.path as osp\n",
    "import os"
   ]
  },
  {
   "cell_type": "code",
   "execution_count": 18,
   "id": "9b5828a6-fd1a-457e-9c85-742e508f7dcb",
   "metadata": {
    "tags": []
   },
   "outputs": [],
   "source": [
    "os.makedirs(tmp_outputs.cache_data)"
   ]
  },
  {
   "cell_type": "code",
   "execution_count": 19,
   "id": "053132cb-e200-4e81-b262-244eedd44f47",
   "metadata": {
    "tags": []
   },
   "outputs": [
    {
     "name": "stdout",
     "output_type": "stream",
     "text": [
      "Will not apply HSTS. The HSTS database must be a regular and non-world-writable file.\n",
      "ERROR: could not open HSTS store at '/home/jovyan/.wget-hsts'. HSTS will be disabled.\n",
      "--2023-10-10 06:49:17--  http://images.cocodataset.org/zips/val2017.zip\n",
      "Resolving images.cocodataset.org (images.cocodataset.org)... 52.216.212.217, 16.182.42.81, 52.217.254.17, ...\n",
      "Connecting to images.cocodataset.org (images.cocodataset.org)|52.216.212.217|:80... connected.\n",
      "HTTP request sent, awaiting response... 200 OK\n",
      "Length: 815585330 (778M) [application/zip]\n",
      "Saving to: ‘/data/cache/user/yolox_mmdet/zone/1_data_import/run-23-10-10-064744/cache_data/val2017.zip’\n",
      "\n",
      "/data/cache/user/yo 100%[===================>] 777.80M  8.53MB/s    in 1m 42s  \n",
      "\n",
      "2023-10-10 06:50:59 (7.66 MB/s) - ‘/data/cache/user/yolox_mmdet/zone/1_data_import/run-23-10-10-064744/cache_data/val2017.zip’ saved [815585330/815585330]\n",
      "\n",
      "Will not apply HSTS. The HSTS database must be a regular and non-world-writable file.\n",
      "ERROR: could not open HSTS store at '/home/jovyan/.wget-hsts'. HSTS will be disabled.\n",
      "--2023-10-10 06:50:59--  http://images.cocodataset.org/annotations/annotations_trainval2017.zip\n",
      "Resolving images.cocodataset.org (images.cocodataset.org)... 52.216.166.67, 3.5.19.138, 52.216.106.19, ...\n",
      "Connecting to images.cocodataset.org (images.cocodataset.org)|52.216.166.67|:80... connected.\n",
      "HTTP request sent, awaiting response... 200 OK\n",
      "Length: 252907541 (241M) [application/zip]\n",
      "Saving to: ‘/data/cache/user/yolox_mmdet/zone/1_data_import/run-23-10-10-064744/cache_data/annotations_trainval2017.zip’\n",
      "\n",
      "/data/cache/user/yo 100%[===================>] 241.19M  9.08MB/s    in 48s     \n",
      "\n",
      "2023-10-10 06:51:48 (5.00 MB/s) - ‘/data/cache/user/yolox_mmdet/zone/1_data_import/run-23-10-10-064744/cache_data/annotations_trainval2017.zip’ saved [252907541/252907541]\n",
      "\n"
     ]
    }
   ],
   "source": [
    "!wget {data_url} -O {osp.join(tmp_outputs.cache_data, osp.basename(data_url))}\n",
    "!wget {annot_url} -O {osp.join(tmp_outputs.cache_data, osp.basename(annot_url))}"
   ]
  },
  {
   "cell_type": "code",
   "execution_count": 20,
   "id": "c63578f7-082a-4132-96d6-d923788109bb",
   "metadata": {
    "tags": []
   },
   "outputs": [],
   "source": [
    "#6 unzip dataset\n",
    "!unzip -q {osp.join(tmp_outputs.cache_data, osp.basename(data_url))} -d {tmp_outputs.cache_data}\n",
    "!unzip -q {osp.join(tmp_outputs.cache_data, osp.basename(annot_url))} -d {tmp_outputs.cache_data}"
   ]
  },
  {
   "cell_type": "code",
   "execution_count": 22,
   "id": "60b85ed8-0467-4a80-8d07-9a8f8fc5df34",
   "metadata": {
    "tags": []
   },
   "outputs": [
    {
     "name": "stdout",
     "output_type": "stream",
     "text": [
      "annotations  annotations_trainval2017.zip  val2017  val2017.zip\n"
     ]
    }
   ],
   "source": [
    "!ls {tmp_outputs.cache_data}"
   ]
  },
  {
   "cell_type": "code",
   "execution_count": 25,
   "id": "ae17930d-79a1-47b6-b8a2-66a907ebc25b",
   "metadata": {
    "tags": []
   },
   "outputs": [
    {
     "ename": "ImportError",
     "evalue": "libcudart.so.10.2: cannot open shared object file: No such file or directory",
     "output_type": "error",
     "traceback": [
      "\u001b[0;31m---------------------------------------------------------------------------\u001b[0m",
      "\u001b[0;31mImportError\u001b[0m                               Traceback (most recent call last)",
      "Cell \u001b[0;32mIn[25], line 1\u001b[0m\n\u001b[0;32m----> 1\u001b[0m \u001b[38;5;28;01mfrom\u001b[39;00m \u001b[38;5;21;01mutils\u001b[39;00m\u001b[38;5;21;01m.\u001b[39;00m\u001b[38;5;21;01mcoco\u001b[39;00m \u001b[38;5;28;01mimport\u001b[39;00m load \u001b[38;5;28;01mas\u001b[39;00m load_coco\n",
      "File \u001b[0;32m~/work/yolox_mmdet/1_data_import/utils/coco/__init__.py:2\u001b[0m\n\u001b[1;32m      1\u001b[0m \u001b[38;5;28;01mfrom\u001b[39;00m \u001b[38;5;21;01m.\u001b[39;00m\u001b[38;5;21;01mencoder\u001b[39;00m \u001b[38;5;28;01mimport\u001b[39;00m load, dump\n\u001b[0;32m----> 2\u001b[0m \u001b[38;5;28;01mfrom\u001b[39;00m \u001b[38;5;21;01m.\u001b[39;00m\u001b[38;5;21;01mcoco\u001b[39;00m \u001b[38;5;28;01mimport\u001b[39;00m preview_coco_file, join_coco_files\n\u001b[1;32m      3\u001b[0m \u001b[38;5;28;01mfrom\u001b[39;00m \u001b[38;5;21;01m.\u001b[39;00m\u001b[38;5;21;01mitem\u001b[39;00m \u001b[38;5;28;01mimport\u001b[39;00m show_item\n\u001b[1;32m      4\u001b[0m \u001b[38;5;28;01mfrom\u001b[39;00m \u001b[38;5;21;01m.\u001b[39;00m\u001b[38;5;21;01mdataset\u001b[39;00m \u001b[38;5;28;01mimport\u001b[39;00m get_dataset\n",
      "File \u001b[0;32m~/work/yolox_mmdet/1_data_import/utils/coco/coco.py:12\u001b[0m\n\u001b[1;32m     10\u001b[0m \u001b[38;5;28;01mfrom\u001b[39;00m \u001b[38;5;21;01m.\u001b[39;00m\u001b[38;5;21;01mutils\u001b[39;00m \u001b[38;5;28;01mimport\u001b[39;00m get_files\n\u001b[1;32m     11\u001b[0m \u001b[38;5;28;01mfrom\u001b[39;00m \u001b[38;5;21;01m.\u001b[39;00m\u001b[38;5;21;01mencoder\u001b[39;00m \u001b[38;5;28;01mimport\u001b[39;00m load\n\u001b[0;32m---> 12\u001b[0m \u001b[38;5;28;01mfrom\u001b[39;00m \u001b[38;5;21;01m.\u001b[39;00m\u001b[38;5;21;01mitem\u001b[39;00m \u001b[38;5;28;01mimport\u001b[39;00m show_item\n\u001b[1;32m     14\u001b[0m \u001b[38;5;28;01mimport\u001b[39;00m \u001b[38;5;21;01mlogging\u001b[39;00m\n\u001b[1;32m     15\u001b[0m logger \u001b[38;5;241m=\u001b[39m logging\u001b[38;5;241m.\u001b[39mgetLogger(\u001b[38;5;18m__name__\u001b[39m)\n",
      "File \u001b[0;32m~/work/yolox_mmdet/1_data_import/utils/coco/item.py:8\u001b[0m\n\u001b[1;32m      5\u001b[0m \u001b[38;5;28;01mimport\u001b[39;00m \u001b[38;5;21;01mnumpy\u001b[39;00m \u001b[38;5;28;01mas\u001b[39;00m \u001b[38;5;21;01mnp\u001b[39;00m\n\u001b[1;32m      6\u001b[0m \u001b[38;5;28;01mimport\u001b[39;00m \u001b[38;5;21;01mmatplotlib\u001b[39;00m\u001b[38;5;21;01m.\u001b[39;00m\u001b[38;5;21;01mpyplot\u001b[39;00m \u001b[38;5;28;01mas\u001b[39;00m \u001b[38;5;21;01mplt\u001b[39;00m\n\u001b[0;32m----> 8\u001b[0m \u001b[38;5;28;01mfrom\u001b[39;00m \u001b[38;5;21;01mmmdet\u001b[39;00m\u001b[38;5;21;01m.\u001b[39;00m\u001b[38;5;21;01mcore\u001b[39;00m\u001b[38;5;21;01m.\u001b[39;00m\u001b[38;5;21;01mvisualization\u001b[39;00m \u001b[38;5;28;01mimport\u001b[39;00m imshow_det_bboxes\n\u001b[1;32m      9\u001b[0m \u001b[38;5;28;01mfrom\u001b[39;00m \u001b[38;5;21;01mmmdet\u001b[39;00m\u001b[38;5;21;01m.\u001b[39;00m\u001b[38;5;21;01mcore\u001b[39;00m\u001b[38;5;21;01m.\u001b[39;00m\u001b[38;5;21;01mutils\u001b[39;00m \u001b[38;5;28;01mimport\u001b[39;00m mask2ndarray\n\u001b[1;32m     11\u001b[0m \u001b[38;5;28;01mfrom\u001b[39;00m \u001b[38;5;21;01m.\u001b[39;00m\u001b[38;5;21;01mencoder\u001b[39;00m \u001b[38;5;28;01mimport\u001b[39;00m dump\n",
      "File \u001b[0;32m~/mmdetection/mmdet/core/__init__.py:3\u001b[0m\n\u001b[1;32m      1\u001b[0m \u001b[38;5;66;03m# Copyright (c) OpenMMLab. All rights reserved.\u001b[39;00m\n\u001b[1;32m      2\u001b[0m \u001b[38;5;28;01mfrom\u001b[39;00m \u001b[38;5;21;01m.\u001b[39;00m\u001b[38;5;21;01manchor\u001b[39;00m \u001b[38;5;28;01mimport\u001b[39;00m \u001b[38;5;241m*\u001b[39m  \u001b[38;5;66;03m# noqa: F401, F403\u001b[39;00m\n\u001b[0;32m----> 3\u001b[0m \u001b[38;5;28;01mfrom\u001b[39;00m \u001b[38;5;21;01m.\u001b[39;00m\u001b[38;5;21;01mbbox\u001b[39;00m \u001b[38;5;28;01mimport\u001b[39;00m \u001b[38;5;241m*\u001b[39m  \u001b[38;5;66;03m# noqa: F401, F403\u001b[39;00m\n\u001b[1;32m      4\u001b[0m \u001b[38;5;28;01mfrom\u001b[39;00m \u001b[38;5;21;01m.\u001b[39;00m\u001b[38;5;21;01mdata_structures\u001b[39;00m \u001b[38;5;28;01mimport\u001b[39;00m \u001b[38;5;241m*\u001b[39m  \u001b[38;5;66;03m# noqa: F401, F403\u001b[39;00m\n\u001b[1;32m      5\u001b[0m \u001b[38;5;28;01mfrom\u001b[39;00m \u001b[38;5;21;01m.\u001b[39;00m\u001b[38;5;21;01mevaluation\u001b[39;00m \u001b[38;5;28;01mimport\u001b[39;00m \u001b[38;5;241m*\u001b[39m  \u001b[38;5;66;03m# noqa: F401, F403\u001b[39;00m\n",
      "File \u001b[0;32m~/mmdetection/mmdet/core/bbox/__init__.py:8\u001b[0m\n\u001b[1;32m      5\u001b[0m \u001b[38;5;28;01mfrom\u001b[39;00m \u001b[38;5;21;01m.\u001b[39;00m\u001b[38;5;21;01mcoder\u001b[39;00m \u001b[38;5;28;01mimport\u001b[39;00m (BaseBBoxCoder, DeltaXYWHBBoxCoder, DistancePointBBoxCoder,\n\u001b[1;32m      6\u001b[0m                     PseudoBBoxCoder, TBLRBBoxCoder)\n\u001b[1;32m      7\u001b[0m \u001b[38;5;28;01mfrom\u001b[39;00m \u001b[38;5;21;01m.\u001b[39;00m\u001b[38;5;21;01miou_calculators\u001b[39;00m \u001b[38;5;28;01mimport\u001b[39;00m BboxOverlaps2D, bbox_overlaps\n\u001b[0;32m----> 8\u001b[0m \u001b[38;5;28;01mfrom\u001b[39;00m \u001b[38;5;21;01m.\u001b[39;00m\u001b[38;5;21;01msamplers\u001b[39;00m \u001b[38;5;28;01mimport\u001b[39;00m (BaseSampler, CombinedSampler,\n\u001b[1;32m      9\u001b[0m                        InstanceBalancedPosSampler, IoUBalancedNegSampler,\n\u001b[1;32m     10\u001b[0m                        OHEMSampler, PseudoSampler, RandomSampler,\n\u001b[1;32m     11\u001b[0m                        SamplingResult, ScoreHLRSampler)\n\u001b[1;32m     12\u001b[0m \u001b[38;5;28;01mfrom\u001b[39;00m \u001b[38;5;21;01m.\u001b[39;00m\u001b[38;5;21;01mtransforms\u001b[39;00m \u001b[38;5;28;01mimport\u001b[39;00m (bbox2distance, bbox2result, bbox2roi,\n\u001b[1;32m     13\u001b[0m                          bbox_cxcywh_to_xyxy, bbox_flip, bbox_mapping,\n\u001b[1;32m     14\u001b[0m                          bbox_mapping_back, bbox_rescale, bbox_xyxy_to_cxcywh,\n\u001b[1;32m     15\u001b[0m                          distance2bbox, find_inside_bboxes, roi2bbox)\n\u001b[1;32m     17\u001b[0m __all__ \u001b[38;5;241m=\u001b[39m [\n\u001b[1;32m     18\u001b[0m     \u001b[38;5;124m'\u001b[39m\u001b[38;5;124mbbox_overlaps\u001b[39m\u001b[38;5;124m'\u001b[39m, \u001b[38;5;124m'\u001b[39m\u001b[38;5;124mBboxOverlaps2D\u001b[39m\u001b[38;5;124m'\u001b[39m, \u001b[38;5;124m'\u001b[39m\u001b[38;5;124mBaseAssigner\u001b[39m\u001b[38;5;124m'\u001b[39m, \u001b[38;5;124m'\u001b[39m\u001b[38;5;124mMaxIoUAssigner\u001b[39m\u001b[38;5;124m'\u001b[39m,\n\u001b[1;32m     19\u001b[0m     \u001b[38;5;124m'\u001b[39m\u001b[38;5;124mAssignResult\u001b[39m\u001b[38;5;124m'\u001b[39m, \u001b[38;5;124m'\u001b[39m\u001b[38;5;124mBaseSampler\u001b[39m\u001b[38;5;124m'\u001b[39m, \u001b[38;5;124m'\u001b[39m\u001b[38;5;124mPseudoSampler\u001b[39m\u001b[38;5;124m'\u001b[39m, \u001b[38;5;124m'\u001b[39m\u001b[38;5;124mRandomSampler\u001b[39m\u001b[38;5;124m'\u001b[39m,\n\u001b[0;32m   (...)\u001b[0m\n\u001b[1;32m     27\u001b[0m     \u001b[38;5;124m'\u001b[39m\u001b[38;5;124mbbox_xyxy_to_cxcywh\u001b[39m\u001b[38;5;124m'\u001b[39m, \u001b[38;5;124m'\u001b[39m\u001b[38;5;124mRegionAssigner\u001b[39m\u001b[38;5;124m'\u001b[39m, \u001b[38;5;124m'\u001b[39m\u001b[38;5;124mfind_inside_bboxes\u001b[39m\u001b[38;5;124m'\u001b[39m\n\u001b[1;32m     28\u001b[0m ]\n",
      "File \u001b[0;32m~/mmdetection/mmdet/core/bbox/samplers/__init__.py:12\u001b[0m\n\u001b[1;32m     10\u001b[0m \u001b[38;5;28;01mfrom\u001b[39;00m \u001b[38;5;21;01m.\u001b[39;00m\u001b[38;5;21;01mrandom_sampler\u001b[39;00m \u001b[38;5;28;01mimport\u001b[39;00m RandomSampler\n\u001b[1;32m     11\u001b[0m \u001b[38;5;28;01mfrom\u001b[39;00m \u001b[38;5;21;01m.\u001b[39;00m\u001b[38;5;21;01msampling_result\u001b[39;00m \u001b[38;5;28;01mimport\u001b[39;00m SamplingResult\n\u001b[0;32m---> 12\u001b[0m \u001b[38;5;28;01mfrom\u001b[39;00m \u001b[38;5;21;01m.\u001b[39;00m\u001b[38;5;21;01mscore_hlr_sampler\u001b[39;00m \u001b[38;5;28;01mimport\u001b[39;00m ScoreHLRSampler\n\u001b[1;32m     14\u001b[0m __all__ \u001b[38;5;241m=\u001b[39m [\n\u001b[1;32m     15\u001b[0m     \u001b[38;5;124m'\u001b[39m\u001b[38;5;124mBaseSampler\u001b[39m\u001b[38;5;124m'\u001b[39m, \u001b[38;5;124m'\u001b[39m\u001b[38;5;124mPseudoSampler\u001b[39m\u001b[38;5;124m'\u001b[39m, \u001b[38;5;124m'\u001b[39m\u001b[38;5;124mRandomSampler\u001b[39m\u001b[38;5;124m'\u001b[39m,\n\u001b[1;32m     16\u001b[0m     \u001b[38;5;124m'\u001b[39m\u001b[38;5;124mInstanceBalancedPosSampler\u001b[39m\u001b[38;5;124m'\u001b[39m, \u001b[38;5;124m'\u001b[39m\u001b[38;5;124mIoUBalancedNegSampler\u001b[39m\u001b[38;5;124m'\u001b[39m, \u001b[38;5;124m'\u001b[39m\u001b[38;5;124mCombinedSampler\u001b[39m\u001b[38;5;124m'\u001b[39m,\n\u001b[1;32m     17\u001b[0m     \u001b[38;5;124m'\u001b[39m\u001b[38;5;124mOHEMSampler\u001b[39m\u001b[38;5;124m'\u001b[39m, \u001b[38;5;124m'\u001b[39m\u001b[38;5;124mSamplingResult\u001b[39m\u001b[38;5;124m'\u001b[39m, \u001b[38;5;124m'\u001b[39m\u001b[38;5;124mScoreHLRSampler\u001b[39m\u001b[38;5;124m'\u001b[39m, \u001b[38;5;124m'\u001b[39m\u001b[38;5;124mMaskPseudoSampler\u001b[39m\u001b[38;5;124m'\u001b[39m,\n\u001b[1;32m     18\u001b[0m     \u001b[38;5;124m'\u001b[39m\u001b[38;5;124mMaskSamplingResult\u001b[39m\u001b[38;5;124m'\u001b[39m\n\u001b[1;32m     19\u001b[0m ]\n",
      "File \u001b[0;32m~/mmdetection/mmdet/core/bbox/samplers/score_hlr_sampler.py:3\u001b[0m\n\u001b[1;32m      1\u001b[0m \u001b[38;5;66;03m# Copyright (c) OpenMMLab. All rights reserved.\u001b[39;00m\n\u001b[1;32m      2\u001b[0m \u001b[38;5;28;01mimport\u001b[39;00m \u001b[38;5;21;01mtorch\u001b[39;00m\n\u001b[0;32m----> 3\u001b[0m \u001b[38;5;28;01mfrom\u001b[39;00m \u001b[38;5;21;01mmmcv\u001b[39;00m\u001b[38;5;21;01m.\u001b[39;00m\u001b[38;5;21;01mops\u001b[39;00m \u001b[38;5;28;01mimport\u001b[39;00m nms_match\n\u001b[1;32m      5\u001b[0m \u001b[38;5;28;01mfrom\u001b[39;00m \u001b[38;5;21;01m.\u001b[39;00m\u001b[38;5;21;01m.\u001b[39;00m\u001b[38;5;21;01mbuilder\u001b[39;00m \u001b[38;5;28;01mimport\u001b[39;00m BBOX_SAMPLERS\n\u001b[1;32m      6\u001b[0m \u001b[38;5;28;01mfrom\u001b[39;00m \u001b[38;5;21;01m.\u001b[39;00m\u001b[38;5;21;01m.\u001b[39;00m\u001b[38;5;21;01mtransforms\u001b[39;00m \u001b[38;5;28;01mimport\u001b[39;00m bbox2roi\n",
      "File \u001b[0;32m/opt/conda/lib/python3.9/site-packages/mmcv/ops/__init__.py:2\u001b[0m\n\u001b[1;32m      1\u001b[0m \u001b[38;5;66;03m# Copyright (c) OpenMMLab. All rights reserved.\u001b[39;00m\n\u001b[0;32m----> 2\u001b[0m \u001b[38;5;28;01mfrom\u001b[39;00m \u001b[38;5;21;01m.\u001b[39;00m\u001b[38;5;21;01mactive_rotated_filter\u001b[39;00m \u001b[38;5;28;01mimport\u001b[39;00m active_rotated_filter\n\u001b[1;32m      3\u001b[0m \u001b[38;5;28;01mfrom\u001b[39;00m \u001b[38;5;21;01m.\u001b[39;00m\u001b[38;5;21;01massign_score_withk\u001b[39;00m \u001b[38;5;28;01mimport\u001b[39;00m assign_score_withk\n\u001b[1;32m      4\u001b[0m \u001b[38;5;28;01mfrom\u001b[39;00m \u001b[38;5;21;01m.\u001b[39;00m\u001b[38;5;21;01mball_query\u001b[39;00m \u001b[38;5;28;01mimport\u001b[39;00m ball_query\n",
      "File \u001b[0;32m/opt/conda/lib/python3.9/site-packages/mmcv/ops/active_rotated_filter.py:10\u001b[0m\n\u001b[1;32m      6\u001b[0m \u001b[38;5;28;01mfrom\u001b[39;00m \u001b[38;5;21;01mtorch\u001b[39;00m\u001b[38;5;21;01m.\u001b[39;00m\u001b[38;5;21;01mautograd\u001b[39;00m\u001b[38;5;21;01m.\u001b[39;00m\u001b[38;5;21;01mfunction\u001b[39;00m \u001b[38;5;28;01mimport\u001b[39;00m once_differentiable\n\u001b[1;32m      8\u001b[0m \u001b[38;5;28;01mfrom\u001b[39;00m \u001b[38;5;21;01m.\u001b[39;00m\u001b[38;5;21;01m.\u001b[39;00m\u001b[38;5;21;01mutils\u001b[39;00m \u001b[38;5;28;01mimport\u001b[39;00m ext_loader\n\u001b[0;32m---> 10\u001b[0m ext_module \u001b[38;5;241m=\u001b[39m \u001b[43mext_loader\u001b[49m\u001b[38;5;241;43m.\u001b[39;49m\u001b[43mload_ext\u001b[49m\u001b[43m(\u001b[49m\n\u001b[1;32m     11\u001b[0m \u001b[43m    \u001b[49m\u001b[38;5;124;43m'\u001b[39;49m\u001b[38;5;124;43m_ext\u001b[39;49m\u001b[38;5;124;43m'\u001b[39;49m\u001b[43m,\u001b[49m\n\u001b[1;32m     12\u001b[0m \u001b[43m    \u001b[49m\u001b[43m[\u001b[49m\u001b[38;5;124;43m'\u001b[39;49m\u001b[38;5;124;43mactive_rotated_filter_forward\u001b[39;49m\u001b[38;5;124;43m'\u001b[39;49m\u001b[43m,\u001b[49m\u001b[43m \u001b[49m\u001b[38;5;124;43m'\u001b[39;49m\u001b[38;5;124;43mactive_rotated_filter_backward\u001b[39;49m\u001b[38;5;124;43m'\u001b[39;49m\u001b[43m]\u001b[49m\u001b[43m)\u001b[49m\n\u001b[1;32m     15\u001b[0m \u001b[38;5;28;01mclass\u001b[39;00m \u001b[38;5;21;01mActiveRotatedFilterFunction\u001b[39;00m(Function):\n\u001b[1;32m     16\u001b[0m \u001b[38;5;250m    \u001b[39m\u001b[38;5;124;03m\"\"\"Encoding the orientation information and generating orientation-\u001b[39;00m\n\u001b[1;32m     17\u001b[0m \u001b[38;5;124;03m    sensitive features.\u001b[39;00m\n\u001b[1;32m     18\u001b[0m \n\u001b[1;32m     19\u001b[0m \u001b[38;5;124;03m    The details are described in the paper `Align Deep Features for Oriented\u001b[39;00m\n\u001b[1;32m     20\u001b[0m \u001b[38;5;124;03m    Object Detection  <https://arxiv.org/abs/2008.09397>_`.\u001b[39;00m\n\u001b[1;32m     21\u001b[0m \u001b[38;5;124;03m    \"\"\"\u001b[39;00m\n",
      "File \u001b[0;32m/opt/conda/lib/python3.9/site-packages/mmcv/utils/ext_loader.py:13\u001b[0m, in \u001b[0;36mload_ext\u001b[0;34m(name, funcs)\u001b[0m\n\u001b[1;32m     12\u001b[0m \u001b[38;5;28;01mdef\u001b[39;00m \u001b[38;5;21mload_ext\u001b[39m(name, funcs):\n\u001b[0;32m---> 13\u001b[0m     ext \u001b[38;5;241m=\u001b[39m \u001b[43mimportlib\u001b[49m\u001b[38;5;241;43m.\u001b[39;49m\u001b[43mimport_module\u001b[49m\u001b[43m(\u001b[49m\u001b[38;5;124;43m'\u001b[39;49m\u001b[38;5;124;43mmmcv.\u001b[39;49m\u001b[38;5;124;43m'\u001b[39;49m\u001b[43m \u001b[49m\u001b[38;5;241;43m+\u001b[39;49m\u001b[43m \u001b[49m\u001b[43mname\u001b[49m\u001b[43m)\u001b[49m\n\u001b[1;32m     14\u001b[0m     \u001b[38;5;28;01mfor\u001b[39;00m fun \u001b[38;5;129;01min\u001b[39;00m funcs:\n\u001b[1;32m     15\u001b[0m         \u001b[38;5;28;01massert\u001b[39;00m \u001b[38;5;28mhasattr\u001b[39m(ext, fun), \u001b[38;5;124mf\u001b[39m\u001b[38;5;124m'\u001b[39m\u001b[38;5;132;01m{\u001b[39;00mfun\u001b[38;5;132;01m}\u001b[39;00m\u001b[38;5;124m miss in module \u001b[39m\u001b[38;5;132;01m{\u001b[39;00mname\u001b[38;5;132;01m}\u001b[39;00m\u001b[38;5;124m'\u001b[39m\n",
      "File \u001b[0;32m/opt/conda/lib/python3.9/importlib/__init__.py:127\u001b[0m, in \u001b[0;36mimport_module\u001b[0;34m(name, package)\u001b[0m\n\u001b[1;32m    125\u001b[0m             \u001b[38;5;28;01mbreak\u001b[39;00m\n\u001b[1;32m    126\u001b[0m         level \u001b[38;5;241m+\u001b[39m\u001b[38;5;241m=\u001b[39m \u001b[38;5;241m1\u001b[39m\n\u001b[0;32m--> 127\u001b[0m \u001b[38;5;28;01mreturn\u001b[39;00m \u001b[43m_bootstrap\u001b[49m\u001b[38;5;241;43m.\u001b[39;49m\u001b[43m_gcd_import\u001b[49m\u001b[43m(\u001b[49m\u001b[43mname\u001b[49m\u001b[43m[\u001b[49m\u001b[43mlevel\u001b[49m\u001b[43m:\u001b[49m\u001b[43m]\u001b[49m\u001b[43m,\u001b[49m\u001b[43m \u001b[49m\u001b[43mpackage\u001b[49m\u001b[43m,\u001b[49m\u001b[43m \u001b[49m\u001b[43mlevel\u001b[49m\u001b[43m)\u001b[49m\n",
      "\u001b[0;31mImportError\u001b[0m: libcudart.so.10.2: cannot open shared object file: No such file or directory"
     ]
    }
   ],
   "source": [
    "from utils.coco import load as load_coco"
   ]
  },
  {
   "cell_type": "code",
   "execution_count": 24,
   "id": "6393ea3a-3fb5-4423-9a21-4675cb62f84f",
   "metadata": {
    "tags": []
   },
   "outputs": [],
   "source": [
    "import mmcv"
   ]
  },
  {
   "cell_type": "code",
   "execution_count": 16,
   "id": "e3b0a5f5-e7f6-4469-b4c3-2ed130712e31",
   "metadata": {
    "tags": []
   },
   "outputs": [
    {
     "name": "stderr",
     "output_type": "stream",
     "text": [
      "/opt/conda/lib/python3.9/site-packages/pandas/core/computation/expressions.py:21: UserWarning: Pandas requires version '2.8.0' or newer of 'numexpr' (version '2.7.3' currently installed).\n",
      "  from pandas.core.computation.check import NUMEXPR_INSTALLED\n"
     ]
    }
   ],
   "source": [
    "#7 save dataset to parquet\n",
    "from pathlib import Path\n",
    "from tqdm import tqdm\n",
    "import pandas as pd\n",
    "\n",
    "\n",
    "def get_files(path, extensions, relative=True):\n",
    "\n",
    "    if type(extensions) is str:\n",
    "        extensions = [extensions]\n",
    "\n",
    "    all_files = []\n",
    "    for ext in extensions:\n",
    "        if relative:\n",
    "            all_files.extend(Path(path).rglob(ext))\n",
    "        else:\n",
    "            all_files.extend(Path(path).glob(ext))\n",
    "\n",
    "    for i in range(len(all_files)):\n",
    "        all_files[i] = str(all_files[i])\n",
    "\n",
    "    return all_files\n",
    "\n",
    "def build_pandas_df(_dir):\n",
    "    pack = []\n",
    "    files = get_files(_dir, \"*\")\n",
    "    for file in tqdm(files):        \n",
    "        row = {\n",
    "            \"file_names\"       : None,\n",
    "            \"files_binary\"     : None,\n",
    "        }\n",
    "        \n",
    "        with open(file, 'rb') as file_fd:\n",
    "            row['files_binary'] = file_fd.read()\n",
    "        \n",
    "        row[\"file_names\"] = osp.basename(file)        \n",
    "        pack.append(row.copy())\n",
    "    \n",
    "    return pack"
   ]
  },
  {
   "cell_type": "code",
   "execution_count": 17,
   "id": "9a15bc59-249c-4799-8590-fbcbad7adf44",
   "metadata": {
    "tags": []
   },
   "outputs": [
    {
     "name": "stderr",
     "output_type": "stream",
     "text": [
      "100%|██████████| 5000/5000 [00:38<00:00, 128.21it/s]\n"
     ]
    },
    {
     "name": "stdout",
     "output_type": "stream",
     "text": [
      "root\n",
      " |-- file_names: string (nullable = true)\n",
      " |-- files_binary: binary (nullable = true)\n",
      "\n"
     ]
    },
    {
     "name": "stderr",
     "output_type": "stream",
     "text": [
      "100%|██████████| 6/6 [00:01<00:00,  5.23it/s]\n"
     ]
    },
    {
     "name": "stdout",
     "output_type": "stream",
     "text": [
      "root\n",
      " |-- file_names: string (nullable = true)\n",
      " |-- files_binary: binary (nullable = true)\n",
      "\n",
      "outputs.coco_val_img='/data/home/jovyan/yolox_mmdet/zone/1_data_import/run-23-10-10-000409/coco_val_img'\n",
      "outputs.coco_val_annot='/data/home/jovyan/yolox_mmdet/zone/1_data_import/run-23-10-10-000409/coco_val_annot'\n"
     ]
    }
   ],
   "source": [
    "#8 save image and annotations to parquets \n",
    "data_df = build_pandas_df(osp.join(outputs.cache_data, \"val2017\"))\n",
    "data_df = spark.createDataFrame(data_df)\n",
    "data_df.printSchema()\n",
    "\n",
    "annot_df = build_pandas_df(osp.join(outputs.cache_data, \"annotations\"))\n",
    "annot_df = spark.createDataFrame(annot_df)\n",
    "annot_df.printSchema()\n",
    "\n",
    "print(f\"{outputs.coco_val_img=}\")\n",
    "print(f\"{outputs.coco_val_annot=}\")"
   ]
  },
  {
   "cell_type": "code",
   "execution_count": null,
   "id": "e4dcb6fe-6b08-4c78-b3f4-12591b5d4d15",
   "metadata": {
    "tags": []
   },
   "outputs": [],
   "source": [
    "# data_df.write.mode(\"overwrite\").option(\"compression\", \"none\").parquet(outputs.coco_val_img)\n",
    "# annot_df.write.mode(\"overwrite\").option(\"compression\", \"none\").parquet(outputs.coco_val_annot)"
   ]
  },
  {
   "cell_type": "code",
   "execution_count": 18,
   "id": "367327eb-e7f4-465a-80d9-c1eb905f32fc",
   "metadata": {
    "tags": []
   },
   "outputs": [],
   "source": [
    "#9 stop spark\n",
    "SinaraSpark.stop_session()"
   ]
  },
  {
   "cell_type": "code",
   "execution_count": null,
   "id": "eb18287d-fb0b-4567-9ee7-8ca3fc01c49a",
   "metadata": {},
   "outputs": [],
   "source": []
  }
 ],
 "metadata": {
  "kernelspec": {
   "display_name": "Python 3 (ipykernel)",
   "language": "python",
   "name": "python3"
  },
  "language_info": {
   "codemirror_mode": {
    "name": "ipython",
    "version": 3
   },
   "file_extension": ".py",
   "mimetype": "text/x-python",
   "name": "python",
   "nbconvert_exporter": "python",
   "pygments_lexer": "ipython3",
   "version": "3.8.10"
  }
 },
 "nbformat": 4,
 "nbformat_minor": 5
}
