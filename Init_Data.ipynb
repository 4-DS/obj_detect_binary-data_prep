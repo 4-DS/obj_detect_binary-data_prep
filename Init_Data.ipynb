{
 "cells": [
  {
   "cell_type": "code",
   "execution_count": 1,
   "id": "e6b1b9b6",
   "metadata": {
    "cellId": "z1pg0pvkfppap5pmdkrqa",
    "tags": []
   },
   "outputs": [],
   "source": [
    "%load_ext autoreload\n",
    "%autoreload 2"
   ]
  },
  {
   "cell_type": "code",
   "execution_count": 2,
   "id": "f003d9bb",
   "metadata": {
    "cellId": "gy5977li0o58skjdsr85tg"
   },
   "outputs": [],
   "source": [
    "#1 copy a test parquet\n",
    "import os\n",
    "import shutil\n",
    "\n",
    "os.environ[\"DSML_CURR_RUN_ID\"]=\"run-00-01-01-000000\"\n",
    "current_runid = os.getenv(\"DSML_CURR_RUN_ID\")\n",
    "\n",
    "!wget https://github.com/apache/parquet-testing/raw/master/data/alltypes_dictionary.parquet -O test.parquet"
   ]
  },
  {
   "cell_type": "code",
   "execution_count": 3,
   "id": "44e013ff",
   "metadata": {
    "cellId": "4q975fjv1mj6i4snkfyhde",
    "tags": [
     "params"
    ]
   },
   "outputs": [],
   "source": [
    "#2. specify parameters\n",
    "pipeline_params={\n",
    "    \"X\": \"something\"\n",
    "}\n",
    "step_params={\n",
    "    \"X\": \"something_else\"\n",
    "}\n",
    "substep_params={\n",
    "    \"param1\":\"None1\",\n",
    "    \"param2\":\"None2\"}"
   ]
  },
  {
   "cell_type": "code",
   "execution_count": 4,
   "id": "81c2c252",
   "metadata": {
    "cellId": "h62pzpqd48t5ipm8umy985"
   },
   "outputs": [],
   "source": [
    "from sinara.substep import NotebookSubstep, default_param_values, ENV_NAME, PIPELINE_NAME, ZONE_NAME, STEP_NAME, RUN_ID, ENTITY_NAME, ENTITY_PATH, SUBSTEP_NAME, get_user\n",
    "from sinara.fs import SinaraFileSystem\n",
    "from sinara.fs.localfs import SinaraLocalFileSystem\n",
    "\n",
    "substep = NotebookSubstep(pipeline_params, step_params, substep_params, **default_param_values(\"params/step_params.json\"))\n",
    "\n",
    "substep.interface(\n",
    "   \n",
    "    custom_outputs = \n",
    "    [\n",
    "        { ENTITY_NAME: \"entityA\", ENTITY_PATH: f\"/data/home/{get_user()}/pipeline/zone/prev_step/{current_runid}/entityA\" },\n",
    "        { ENTITY_NAME: \"entityB\", ENTITY_PATH: f\"/data/home/{get_user()}/pipeline/zone/prev_step/{current_runid}/entityB\"  },\n",
    "        { ENTITY_NAME: \"entityC\", ENTITY_PATH: f\"/data/home/{get_user()}/pipeline/zone/prev_step/{current_runid}/entityC\"  },\n",
    "        { ENTITY_NAME: \"entityI\", ENTITY_PATH: f\"/data/preprod/other_pipeline/monthly_run/ext_step/{current_runid}/entityI\"  },\n",
    "        { ENTITY_NAME: \"entityJ\", ENTITY_PATH: f\"/data/home/{get_user()}/other_pipeline2/zone0/ext_step2/{current_runid}/entityJ\"  }\n",
    "    ]\n",
    ")\n",
    "\n",
    "substep.print_interface_info()"
   ]
  },
  {
   "cell_type": "code",
   "execution_count": 5,
   "id": "348ae9ee",
   "metadata": {
    "cellId": "56ebioae16os8y8c24whf"
   },
   "outputs": [],
   "source": [
    "outputs = substep.custom_outputs()\n",
    "\n",
    "fs = SinaraFileSystem.FileSystem()\n",
    "\n",
    "fs.put('./test.parquet', outputs.entityA + '/test.parquet')\n",
    "fs.touch(outputs.entityA + '/_SUCCESS')\n",
    "\n",
    "fs.put('./test.parquet', outputs.entityB + '/test.parquet')\n",
    "fs.touch(outputs.entityB + '/_SUCCESS')\n",
    "\n",
    "fs.put('./test.parquet', outputs.entityC + '/test.parquet')\n",
    "fs.touch(outputs.entityC + '/_SUCCESS')\n",
    "\n",
    "fs.put('./test.parquet', outputs.entityI + '/test.parquet')\n",
    "fs.touch(outputs.entityI + '/_SUCCESS')\n",
    "\n",
    "fs.put('./test.parquet', outputs.entityJ + '/test.parquet')\n",
    "fs.touch(outputs.entityJ + '/_SUCCESS')"
   ]
  },
  {
   "cell_type": "code",
   "execution_count": 6,
   "id": "ce9bf68b",
   "metadata": {
    "cellId": "sj8x1d8nev85jcvcf99lx",
    "tags": []
   },
   "outputs": [],
   "source": [
    "!rm -f test.parquet"
   ]
  },
  {
   "cell_type": "code",
   "execution_count": 7,
   "id": "3424c7cc",
   "metadata": {
    "cellId": "dg6qxpk164j5n00c1rnxti"
   },
   "outputs": [],
   "source": [
    "#!c1.4\n"
   ]
  }
 ],
 "metadata": {
  "kernelspec": {
   "display_name": "cv",
   "language": "python",
   "name": "cv"
  },
  "language_info": {
   "codemirror_mode": {
    "name": "ipython",
    "version": 3
   },
   "file_extension": ".py",
   "mimetype": "text/x-python",
   "name": "python",
   "nbconvert_exporter": "python",
   "pygments_lexer": "ipython3",
   "version": "3.9.10"
  },
  "notebookId": "81896294-5c96-4bae-9524-776ba76667b7",
  "notebookPath": "step_template/Init_Data.ipynb"
 },
 "nbformat": 4,
 "nbformat_minor": 5
}
